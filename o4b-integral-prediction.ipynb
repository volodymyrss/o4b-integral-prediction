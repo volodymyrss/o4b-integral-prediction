{
 "cells": [
  {
   "cell_type": "code",
   "execution_count": null,
   "metadata": {},
   "outputs": [
    {
     "name": "stdout",
     "output_type": "stream",
     "text": [
      "49.118641883974114 Mpc\n"
     ]
    },
    {
     "data": {
      "text/latex": [
       "$[1.1119255,~5.3511413,~16.470396] \\; \\mathrm{}$"
      ],
      "text/plain": [
       "<Quantity [ 1.11192547,  5.35114132, 16.47039602]>"
      ]
     },
     "execution_count": 14,
     "metadata": {},
     "output_type": "execute_result"
    }
   ],
   "source": [
    "from astropy import units as u\n",
    "import numpy as np  \n",
    " \n",
    "# GW170817 is 40Mpc away, z=0.009\n",
    "\n",
    "# How far out can we actually detect them?\n",
    "\n",
    "# We infer the binary neutron star merger rate to be between 10 and 1700  Gpc−3 yr−1\n",
    "# https://journals.aps.org/prx/abstract/10.1103/PhysRevX.13.011048\n",
    "\n",
    "rate = np.array([10, 1700])*u.Gpc**-3*u.yr**-1\n",
    "\n",
    "from astropy.cosmology import Planck15 as cosmo\n",
    "\n",
    "r_max = cosmo.luminosity_distance(0.009)*(4.5/3.)**0.5\n",
    "\n",
    "print(r_max)\n",
    "\n",
    "((rate*(4/3*np.pi*r_max**3))*7*u.yr).to(u.dimensionless_unscaled)"
   ]
  }
 ],
 "metadata": {
  "kernelspec": {
   "display_name": "Python 3",
   "language": "python",
   "name": "python3"
  },
  "language_info": {
   "codemirror_mode": {
    "name": "ipython",
    "version": 3
   },
   "file_extension": ".py",
   "mimetype": "text/x-python",
   "name": "python",
   "nbconvert_exporter": "python",
   "pygments_lexer": "ipython3",
   "version": "3.10.12"
  }
 },
 "nbformat": 4,
 "nbformat_minor": 2
}
